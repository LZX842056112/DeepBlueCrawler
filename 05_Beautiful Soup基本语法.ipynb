{
 "cells": [
  {
   "cell_type": "markdown",
   "id": "482c01b8-848d-4863-a92e-a5efba81fa99",
   "metadata": {},
   "source": [
    "# Beautiful Soup 基本语法\n",
    "### CSS选择器\n",
    "- select()方法"
   ]
  },
  {
   "cell_type": "code",
   "execution_count": 2,
   "id": "4cf2331f-8790-40a5-ad90-0427d4d82361",
   "metadata": {},
   "outputs": [
    {
     "name": "stdout",
     "output_type": "stream",
     "text": [
      "[<div class=\"panel-heading\">\n",
      "<h4>Hello</h4>\n",
      "</div>]\n",
      "-----------------\n",
      "[<div class=\"panel-heading\">\n",
      "<h4>Hello</h4>\n",
      "</div>]\n",
      "-----------------\n",
      "[<li class=\"element\">Foo</li>, <li class=\"element\">Bar</li>, <li class=\"element\">Jay</li>, <li class=\"element\">Foo</li>, <li class=\"element\">Bar</li>]\n",
      "-----------------\n",
      "[<li class=\"element\">Foo</li>, <li class=\"element\">Bar</li>]\n",
      "-----------------\n",
      "<ul class=\"list\" id=\"list-1\">\n",
      "<li class=\"element\">Foo</li>\n",
      "<li class=\"element\">Bar</li>\n",
      "<li class=\"element\">Jay</li>\n",
      "</ul>\n",
      "-----------------\n",
      "<class 'bs4.element.Tag'>\n"
     ]
    }
   ],
   "source": [
    "# 用于解析 HTML 文档的库\n",
    "from bs4 import BeautifulSoup  \n",
    "\n",
    "html = '''\n",
    "<div class=\"panel\">\n",
    "  <div class=\"panel-heading\">\n",
    "    <h4>Hello</h4>\n",
    "  </div>\n",
    "  <div class=\"panel-body\">\n",
    "    <ul class=\"list\" id=\"list-1\">\n",
    "      <li class=\"element\">Foo</li>\n",
    "      <li class=\"element\">Bar</li>\n",
    "      <li class=\"element\">Jay</li>\n",
    "    </ul>\n",
    "    <ul class=\"list list-small\" id=\"list-2\">\n",
    "      <li class=\"element\">Foo</li>\n",
    "      <li class=\"element\">Bar</li>\n",
    "    </ul>\n",
    "  </div>\n",
    "</div>\n",
    "'''\n",
    "\n",
    "# 解析 HTML 内容，并将其转换为树形结构（即 BeautifulSoup 对象）\n",
    "# 'lxml'：使用 lxml 解析库\n",
    "soup = BeautifulSoup(html, 'lxml')\n",
    "\n",
    "print(soup.select('div[class=\"panel-heading\"]'))  # 选择所有 class 属性为 \"panel-heading\" 的 div 元素\n",
    "print(\"-----------------\")\n",
    "print(soup.select('.panel .panel-heading'))       # .：选择所有位于 class=\"panel\" 元素内部的 class=\"panel-heading\" 元素\n",
    "print(\"-----------------\")\n",
    "print(soup.select('ul li'))                       # 选择标签\n",
    "print(\"-----------------\")\n",
    "print(soup.select('#list-2 .element'))            # \"#\"：选择 id\n",
    "print(\"-----------------\")\n",
    "print(soup.select('ul')[0])                       # [0]：输出列表中的元素\n",
    "print(\"-----------------\")\n",
    "print(type(soup.select('ul')[0]))                 # 输出列表中元素的类型（Tag 类型）  "
   ]
  },
  {
   "cell_type": "markdown",
   "id": "6825b4e2-8531-410c-aaab-0b83837fd28b",
   "metadata": {},
   "source": [
    "- 获取属性"
   ]
  },
  {
   "cell_type": "code",
   "execution_count": 3,
   "id": "842c86b2-3175-4e38-8940-9d459ee90988",
   "metadata": {},
   "outputs": [
    {
     "name": "stdout",
     "output_type": "stream",
     "text": [
      "list-1\n",
      "list-1\n",
      "-------------\n",
      "list-2\n",
      "list-2\n",
      "-------------\n"
     ]
    }
   ],
   "source": [
    "# 获取每个 ul 节点的 id 属性\n",
    "for ul in soup.select('ul'):\n",
    "    print(ul.get('id'))\n",
    "    print(ul.attrs['id'])  # 同上\n",
    "    print(\"-------------\")"
   ]
  },
  {
   "cell_type": "markdown",
   "id": "3fd73058-7ccd-42ea-8b13-13a3009ea562",
   "metadata": {},
   "source": [
    "- 获取文本"
   ]
  },
  {
   "cell_type": "code",
   "execution_count": 14,
   "id": "0e5c64bc-a13a-486d-b072-cf776ca709f4",
   "metadata": {},
   "outputs": [
    {
     "name": "stdout",
     "output_type": "stream",
     "text": [
      "Get Text： Foo\n",
      "String： Foo\n",
      "-------------\n",
      "Get Text： Bar\n",
      "String： Bar\n",
      "-------------\n",
      "Get Text： Jay\n",
      "String： Jay\n",
      "-------------\n",
      "Get Text： Foo\n",
      "String： Foo\n",
      "-------------\n",
      "Get Text： Bar\n",
      "String： Bar\n",
      "-------------\n"
     ]
    }
   ],
   "source": [
    "for li in soup.select('li'):\n",
    "    print('Get Text：', li.get_text())\n",
    "    print('String：', li.string)  # 同上\n",
    "    print(\"-------------\")"
   ]
  },
  {
   "cell_type": "code",
   "execution_count": 31,
   "id": "2ec5d74d-39aa-4c9e-9c58-a6b076e63c64",
   "metadata": {},
   "outputs": [
    {
     "name": "stdout",
     "output_type": "stream",
     "text": [
      "我的第一个段落1\n",
      "我的第一个段落2\n",
      "我的第一个段落3\n",
      "我的第一个段落4\n",
      "我的第一个段落5\n",
      "我的第一个段落6\n",
      "-------------\n",
      "[<a class=\"red\" id=\"apple\">这是一个苹果</a>]\n",
      "-------------\n",
      "<a class=\"red\" id=\"apple\">这是一个苹果</a>\n",
      "-------------\n",
      "这是一个苹果\n",
      "-------------\n",
      "这是一个苹果\n",
      "-------------\n",
      "http://www.baidu.com/\n",
      "-------------\n",
      "http://www.baidu.com/\n"
     ]
    }
   ],
   "source": [
    "html_str = \"\"\"\n",
    "<html>\n",
    "<head>\n",
    "  <meta charset=\"utf-8\">\n",
    "  <title>爬虫教程</title>\n",
    "</head>\n",
    "<body>\n",
    "<div>\n",
    "  <h1>我的第一个标题1</h1>\n",
    "\n",
    "  <p>我的第一个段落1</p>\n",
    "  <p>我的第一个段落2</p>\n",
    "  <p>我的第一个段落3</p>\n",
    "  <p>我的第一个段落4</p>\n",
    "  <p>我的第一个段落5</p>\n",
    "  <p>我的第一个段落6</p>\n",
    "\n",
    "  <a href=\"http://www.baidu.com\">这是一个链接</a>\n",
    "  <a>这是一个链接</a>\n",
    "  <a class=\"yellow\" id=\"banana\" src=\"http://www.baidu.com/\">这是一个链接</a>\n",
    "  <a class=\"green\" id=\"grass\">这是二个链接</a>\n",
    "  <a class=\"red\" id=\"apple\">这是一个苹果</a>\n",
    "</div> \n",
    "</body>\n",
    "</html>\n",
    "\"\"\"\n",
    "# 解析 HTML 内容，并将其转换为树形结构（即 BeautifulSoup 对象）\n",
    "# 'lxml'：使用 lxml 解析库\n",
    "soup = BeautifulSoup(html_str, 'lxml')\n",
    "\n",
    "ps = soup.select('p')  # p代表标签（如果没有 # 或者 . 则代表标签名）\n",
    "for p in ps:\n",
    "    print(p.string)    # string提取文本\n",
    "\n",
    "print(\"-------------\")\n",
    "print(soup.select(\"#apple\"))             # \"#\"：id 属性，提取节点列表\n",
    "print(\"-------------\")\n",
    "print(soup.select(\"#apple\")[0])          # [0]：提取节点\n",
    "print(\"-------------\")\n",
    "print(soup.select(\"#apple\")[0].string)   # string：提取文本\n",
    "print(\"-------------\")\n",
    "print(soup.select(\".red\")[0].string)     # .：class 属性\n",
    "print(\"-------------\") \n",
    "print(soup.select(\"#banana\")[0][\"src\"])  # [\"src\"]：提取标签属性\n",
    "print(\"-------------\")\n",
    "print(soup.select(\".yellow\")[0][\"src\"])"
   ]
  }
 ],
 "metadata": {
  "kernelspec": {
   "display_name": "Python 3 (ipykernel)",
   "language": "python",
   "name": "python3"
  },
  "language_info": {
   "codemirror_mode": {
    "name": "ipython",
    "version": 3
   },
   "file_extension": ".py",
   "mimetype": "text/x-python",
   "name": "python",
   "nbconvert_exporter": "python",
   "pygments_lexer": "ipython3",
   "version": "3.12.7"
  }
 },
 "nbformat": 4,
 "nbformat_minor": 5
}
