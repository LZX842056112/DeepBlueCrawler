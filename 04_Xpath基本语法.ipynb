{
 "cells": [
  {
   "cell_type": "markdown",
   "id": "e3078704-4b5a-4fca-a77b-8c03f92cfab0",
   "metadata": {},
   "source": [
    "# Xpath 基本语法\n",
    "lxml 是 一个HTML/XML的解析器，主要的功能是如何解析和提取 HTML/XML 数据。\n",
    "\n",
    "XPath (XML Path Lauguage) 是一门在 XML 文档中查找信息的语言，可用来在 XML 文档中对元素和属性进行遍历。\n",
    "\n",
    "教程：https://www.runoob.com/xpath/xpath-tutorial.html"
   ]
  },
  {
   "cell_type": "markdown",
   "id": "a6d0d5db-3fd0-405f-830e-c5901a8d857d",
   "metadata": {},
   "source": [
    "### 选取节点\n",
    "<img src=\"./images/xpath01.png\" width=500>"
   ]
  },
  {
   "cell_type": "markdown",
   "id": "7df03222-4b5b-4a85-bcab-01200e6985ef",
   "metadata": {},
   "source": [
    "### 谓语\n",
    "谓语用来查找某个特定的节点或者包含某个指定的值的节点，被嵌在方括号中\n",
    "\n",
    "<img src=\"./images/xpath02.png\" width=600>\n"
   ]
  },
  {
   "cell_type": "markdown",
   "id": "eeea3440-6d22-4677-bda8-376cb1fa66eb",
   "metadata": {},
   "source": [
    "### 选取未知节点\n",
    "XPath 通配符可用来选取未知的 HTML 元素\n",
    "\n",
    "<img src=\"./images/xpath03.png\" width=300>"
   ]
  },
  {
   "cell_type": "markdown",
   "id": "0cb79a36-96fa-4a39-8225-314d8e48a16f",
   "metadata": {},
   "source": [
    "### 运算符\n",
    "<img src=\"./images/xpath04.png\" width=700>"
   ]
  },
  {
   "cell_type": "code",
   "execution_count": 1,
   "id": "18978e1d-e1b4-4456-ba54-3a1233477fb6",
   "metadata": {},
   "outputs": [
    {
     "name": "stdout",
     "output_type": "stream",
     "text": [
      "<Element html at 0x19aa092a700>\n",
      "['我的第一个标题1']\n",
      "['我的第一个标题1']\n",
      "['我的第一个段落1', '我的第一个段落2', '我的第一个段落3', '我的第一个段落4', '我的第一个段落5', '我的第一个段落6']\n"
     ]
    }
   ],
   "source": [
    "# 用于解析 HTML 文档\n",
    "from lxml import etree\n",
    "\n",
    "html_str = \"\"\"\n",
    "<html>\n",
    "<head>\n",
    "  <meta charset=\"utf-8\">\n",
    "  <title>教程</title>\n",
    "</head>\n",
    "<body>\n",
    "  <div>\n",
    "    <h1>我的第一个标题1</h1>\n",
    "    <p>我的第一个段落1</p>\n",
    "    <p>我的第一个段落2</p>\n",
    "    <p>我的第一个段落3</p>\n",
    "    <p>我的第一个段落4</p>\n",
    "    <p>我的第一个段落5</p>\n",
    "    <p>我的第一个段落6</p>\n",
    "    <a href=\"http://www.baidu.com\">这是一个链接</a>\n",
    "    <a>这是一个链接</a>\n",
    "    <img>\n",
    "    <img width=\"100\">\n",
    "    <img width=\"200\">\n",
    "    <img width=\"300\">\n",
    "  </div> \n",
    "</body>\n",
    "</html>\n",
    "\"\"\"\n",
    "# 将 HTML 字符串解析成可进行 XPath 查询的文档树对象\n",
    "xpath_html = etree.HTML(html_str)\n",
    "print(xpath_html)\n",
    "\n",
    "# /：从根节点开始遍历\n",
    "# text()：提取标签的内容\n",
    "print(xpath_html.xpath(\"/html/body/div/h1/text()\"))\n",
    "\n",
    "# //：任何节点开始，不考虑位置\n",
    "print(xpath_html.xpath(\"//h1/text()\"))\n",
    "\n",
    "# 提取所有 p 标签的内容\n",
    "print(xpath_html.xpath(\"/html/body/div/p/text()\"))"
   ]
  },
  {
   "cell_type": "code",
   "execution_count": 2,
   "id": "107097cc-cc29-4e8a-a060-b4bf396af70d",
   "metadata": {},
   "outputs": [
    {
     "name": "stdout",
     "output_type": "stream",
     "text": [
      "<Element div at 0x19aa08c2500>\n",
      "['我的第一个标题1']\n",
      "['我的第一个标题1']\n"
     ]
    }
   ],
   "source": [
    "# 提取 div 元素\n",
    "div = xpath_html.xpath(\"/html/body/div\")[0]\n",
    "print(div)\n",
    "\n",
    "# .：当前节点\n",
    "print(div.xpath(\"./h1/text()\"))\n",
    "\n",
    "# ..：父节点\n",
    "print(div.xpath(\"../div/h1/text()\"))"
   ]
  },
  {
   "cell_type": "code",
   "execution_count": 3,
   "id": "f926428e-f57e-41f3-867f-a1f97d8acf24",
   "metadata": {},
   "outputs": [
    {
     "name": "stdout",
     "output_type": "stream",
     "text": [
      "['http://www.baidu.com']\n",
      "['100', '200', '300']\n",
      "[<Element img at 0x19aa0929900>]\n"
     ]
    }
   ],
   "source": [
    "# @：属性名\n",
    "print(div.xpath(\"./a/@href\"))\n",
    "\n",
    "# /img[@width]：查找 img 标签中有 width 属性的元素\n",
    "# /@width：查找所有 width 属性\n",
    "print(div.xpath(\"./img[@width]/@width\"))\n",
    "\n",
    "# 查找 img 标签中 width=300 的元素\n",
    "print(div.xpath(\"./img[@width=300]\"))"
   ]
  },
  {
   "cell_type": "code",
   "execution_count": 4,
   "id": "90f3303d-1d76-4134-88ed-a11df5e1e5c0",
   "metadata": {},
   "outputs": [
    {
     "name": "stdout",
     "output_type": "stream",
     "text": [
      "['我的第一个段落1']\n",
      "['我的第一个段落4']\n",
      "['我的第一个段落1', '我的第一个段落2']\n"
     ]
    }
   ],
   "source": [
    "# 第 1 个 p 元素\n",
    "print(xpath_html.xpath(\"//p[1]/text()\"))\n",
    "\n",
    "# 倒数第 3 个 p 元素\n",
    "print(xpath_html.xpath(\"//p[last()-2]/text()\"))\n",
    "\n",
    "# 前 2 个 p 元素\n",
    "print(xpath_html.xpath(\"//p[position()<3]/text()\"))"
   ]
  }
 ],
 "metadata": {
  "kernelspec": {
   "display_name": "Python 3 (ipykernel)",
   "language": "python",
   "name": "python3"
  },
  "language_info": {
   "codemirror_mode": {
    "name": "ipython",
    "version": 3
   },
   "file_extension": ".py",
   "mimetype": "text/x-python",
   "name": "python",
   "nbconvert_exporter": "python",
   "pygments_lexer": "ipython3",
   "version": "3.12.7"
  }
 },
 "nbformat": 4,
 "nbformat_minor": 5
}
